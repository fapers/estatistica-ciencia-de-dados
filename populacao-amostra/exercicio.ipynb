{
 "cells": [
  {
   "cell_type": "markdown",
   "source": [
    "# Amostragem"
   ],
   "metadata": {}
  },
  {
   "cell_type": "markdown",
   "source": [
    "## Carregamento da base de dados"
   ],
   "metadata": {}
  },
  {
   "cell_type": "code",
   "execution_count": 58,
   "source": [
    "# Carregamento da base de dados\r\n",
    "import pandas as pd\r\n",
    "import random\r\n",
    "import numpy as np"
   ],
   "outputs": [],
   "metadata": {}
  },
  {
   "cell_type": "code",
   "execution_count": 59,
   "source": [
    "# Carregamento dos dados do arquivo csv\r\n",
    "dataset = pd.read_csv('..\\\\base-de-dados\\\\credit_data.csv')"
   ],
   "outputs": [],
   "metadata": {}
  },
  {
   "cell_type": "markdown",
   "source": [
    "## Amostragem aleatória simples"
   ],
   "metadata": {}
  },
  {
   "cell_type": "code",
   "execution_count": 60,
   "source": [
    "def amostragem_aleatoria_simples(dataframe, amostras):\r\n",
    "    return dataset.sample(n = amostras)"
   ],
   "outputs": [],
   "metadata": {}
  },
  {
   "cell_type": "markdown",
   "source": [
    "## Amostragem Sistemática"
   ],
   "metadata": {}
  },
  {
   "cell_type": "code",
   "execution_count": 61,
   "source": [
    "# Função\r\n",
    "def amostragem_sistematica(dataset, amostras):\r\n",
    "    # intervalo de amostragem\r\n",
    "    intervalo = len(dataset) // amostras\r\n",
    "    # Fixa um número aleatório\r\n",
    "    random.seed(1)\r\n",
    "    inicio = random.randint(0, intervalo)\r\n",
    "    # Retorna os indices escolhidos do dataset\r\n",
    "    indices = np.arange(inicio, len(dataset), step=intervalo)\r\n",
    "    # Retorna as linhas do dataset em função dos indices selecionados\r\n",
    "    amostra_sistematica = dataset.iloc[indices]\r\n",
    "    return amostra_sistematica"
   ],
   "outputs": [],
   "metadata": {}
  },
  {
   "cell_type": "markdown",
   "source": [
    "## Amostragem por grupos"
   ],
   "metadata": {}
  },
  {
   "cell_type": "code",
   "execution_count": 62,
   "source": [
    "# Função para resolução do problema\r\n",
    "def amostragem_agrupamento(dataset, numero_grupos):\r\n",
    "    intervalo = len(dataset) / numero_grupos\r\n",
    "    grupos = []\r\n",
    "    id_grupo = 0\r\n",
    "    contagem = 0\r\n",
    "    for _ in dataset.iterrows():\r\n",
    "        grupos.append(id_grupo)\r\n",
    "        contagem += 1\r\n",
    "        if contagem > intervalo:\r\n",
    "            contagem = 0\r\n",
    "            id_grupo += 1\r\n",
    "    dataset['grupo'] = grupos\r\n",
    "    # Fixar o random\r\n",
    "    random.seed(1)\r\n",
    "    grupo_selecionado = random.randint(0, numero_grupos)\r\n",
    "    return dataset[dataset['grupo'] == grupo_selecionado]"
   ],
   "outputs": [],
   "metadata": {}
  },
  {
   "cell_type": "markdown",
   "source": [
    "## Amostra Estratificada"
   ],
   "metadata": {}
  },
  {
   "cell_type": "code",
   "execution_count": 63,
   "source": [
    "# Aprendizagem de máquina para abstração\r\n",
    "from sklearn.model_selection import StratifiedShuffleSplit"
   ],
   "outputs": [],
   "metadata": {}
  },
  {
   "cell_type": "code",
   "execution_count": 64,
   "source": [
    "def amostragem_estratificada(dataset, percentual):\r\n",
    "    split = StratifiedShuffleSplit(test_size=percentual, random_state=1)\r\n",
    "    for _, y in split.split(dataset, dataset['c#default']):\r\n",
    "        # amostra 10% para teste\r\n",
    "        df_y = dataset.iloc[y]\r\n",
    "    return df_y"
   ],
   "outputs": [],
   "metadata": {}
  },
  {
   "cell_type": "markdown",
   "source": [
    "## Amostragem de Reservatório"
   ],
   "metadata": {}
  },
  {
   "cell_type": "code",
   "execution_count": 65,
   "source": [
    "# Função\r\n",
    "def amostragem_reservatorio(dataset, amostras):\r\n",
    "    stream = []\r\n",
    "    for i in range(len(dataset)):\r\n",
    "        stream.append(i)\r\n",
    "    \r\n",
    "    i = 0\r\n",
    "    tamanho = len(dataset)\r\n",
    "    \r\n",
    "    reservatorio = [0] * amostras\r\n",
    "    for i in range(amostras):\r\n",
    "        reservatorio[i] = stream[i]\r\n",
    "        \r\n",
    "    while i < tamanho:\r\n",
    "        j = random.randrange(i+1)\r\n",
    "        if j < amostras:\r\n",
    "            reservatorio[j] = stream[i]\r\n",
    "        i += 1\r\n",
    "        \r\n",
    "    return dataset.iloc[reservatorio]"
   ],
   "outputs": [],
   "metadata": {}
  },
  {
   "cell_type": "markdown",
   "source": [],
   "metadata": {}
  },
  {
   "cell_type": "markdown",
   "source": [
    "## Comparativo dos resultados"
   ],
   "metadata": {}
  },
  {
   "cell_type": "code",
   "execution_count": 79,
   "source": [
    "media_age = []\r\n",
    "media_age.append(dataset['age'].mean())\r\n",
    "media_age.append(df_amostra_aleatoria_simples['age'].mean())\r\n",
    "media_age.append(df_amostra_sistematica['age'].mean())\r\n",
    "media_age.append(df_amostra_agrupamento['age'].mean())\r\n",
    "media_age.append(df_amostra_estratificada['age'].mean())\r\n",
    "media_age.append(df_amostra_reservatorio['age'].mean())\r\n",
    "print(f'Média age{media_age}')\r\n",
    "m = media_age[0]\r\n",
    "for a in media_age:\r\n",
    "    print(f'{a - m:.2f}', end=\", \")\r\n",
    "print(\"\")\r\n"
   ],
   "outputs": [
    {
     "output_type": "stream",
     "name": "stdout",
     "text": [
      "Média age[40.80755937840458, 39.51322620429564, 40.47804832633119, 46.51492485756586, 35.84743996017744, 42.19587305642664]\n",
      "0.00, -1.29, -0.33, 5.71, -4.96, 1.39, \n"
     ]
    }
   ],
   "metadata": {}
  },
  {
   "cell_type": "code",
   "execution_count": 81,
   "source": [
    "media_income = []\r\n",
    "media_income.append(dataset['income'].mean())\r\n",
    "media_income.append(df_amostra_aleatoria_simples['income'].mean())\r\n",
    "media_income.append(df_amostra_sistematica['income'].mean())\r\n",
    "media_income.append(df_amostra_agrupamento['income'].mean())\r\n",
    "media_income.append(df_amostra_estratificada['income'].mean())\r\n",
    "media_income.append(df_amostra_reservatorio['income'].mean())\r\n",
    "print(f'Média income{media_income}')\r\n",
    "m = media_income[0]\r\n",
    "for a in media_income:\r\n",
    "    print(f'{a - m:.2f}', end=\", \")\r\n",
    "print(\"\")"
   ],
   "outputs": [
    {
     "output_type": "stream",
     "name": "stdout",
     "text": [
      "Média income[45331.600017793244, 45518.06857786141, 42839.840865461156, 47605.51129301478, 39516.1268431028, 44835.662659141235]\n",
      "0.00, 186.47, -2491.76, 2273.91, -5815.47, -495.94, \n"
     ]
    }
   ],
   "metadata": {}
  },
  {
   "cell_type": "code",
   "execution_count": 82,
   "source": [
    "media_loan = []\r\n",
    "media_loan.append(dataset['loan'].mean())\r\n",
    "media_loan.append(df_amostra_aleatoria_simples['loan'].mean())\r\n",
    "media_loan.append(df_amostra_sistematica['loan'].mean())\r\n",
    "media_loan.append(df_amostra_agrupamento['loan'].mean())\r\n",
    "media_loan.append(df_amostra_estratificada['loan'].mean())\r\n",
    "media_loan.append(df_amostra_reservatorio['loan'].mean())\r\n",
    "print(f'Média loan{media_loan}')\r\n",
    "m = media_loan[0]\r\n",
    "for a in media_loan:\r\n",
    "    print(f'{a - m:.2f}', end=\", \")\r\n",
    "print(\"\")"
   ],
   "outputs": [
    {
     "output_type": "stream",
     "name": "stdout",
     "text": [
      "Média loan[4444.369694688258, 4560.687626884299, 4742.209210616534, 6087.659724430348, 3913.890880279618, 4560.853171789891]\n",
      "0.00, 116.32, 297.84, 1643.29, -530.48, 116.48, \n"
     ]
    }
   ],
   "metadata": {}
  }
 ],
 "metadata": {
  "orig_nbformat": 4,
  "language_info": {
   "name": "python",
   "version": "3.9.6",
   "mimetype": "text/x-python",
   "codemirror_mode": {
    "name": "ipython",
    "version": 3
   },
   "pygments_lexer": "ipython3",
   "nbconvert_exporter": "python",
   "file_extension": ".py"
  },
  "kernelspec": {
   "name": "python3",
   "display_name": "Python 3.9.6 64-bit ('v-curso': venv)"
  },
  "interpreter": {
   "hash": "d58d745978d4f58bd9574aba24cfe8392d5688b67b68feb76493c1218abe927b"
  }
 },
 "nbformat": 4,
 "nbformat_minor": 2
}