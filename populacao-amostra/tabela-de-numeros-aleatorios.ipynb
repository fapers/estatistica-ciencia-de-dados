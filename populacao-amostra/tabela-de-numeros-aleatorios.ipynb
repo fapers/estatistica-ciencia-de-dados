{
 "cells": [
  {
   "cell_type": "code",
   "execution_count": 38,
   "source": [
    "# Pouco usual atualmente, podendo ser gerada no excel \r\n",
    "# ou numa linguagem de programação\r\n",
    "import numpy as np\r\n",
    "import random as rand"
   ],
   "outputs": [],
   "metadata": {}
  },
  {
   "cell_type": "code",
   "execution_count": 39,
   "source": [
    "# Gerando uma população com 80 números aleatórios\r\n",
    "tabela = np.zeros(80, dtype='int')\r\n",
    "for i in range(80):\r\n",
    "    na = rand.randint(1,9)\r\n",
    "    na1= rand.randint(0,9)\r\n",
    "    tabela[i] = int(f'{na}{na1}')\r\n",
    "\r\n",
    "print(tabela)"
   ],
   "outputs": [
    {
     "output_type": "stream",
     "name": "stdout",
     "text": [
      "[90 51 82 18 26 85 28 34 79 26 82 14 22 72 34 41 76 68 41 35 22 92 83 10\n",
      " 18 57 65 76 57 22 41 77 34 42 72 84 92 77 57 35 60 95 37 19 71 91 68 18\n",
      " 13 53 68 28 10 93 98 67 20 58 40 43 74 25 74 37 70 78 69 46 79 63 82 88\n",
      " 81 38 45 79 63 57 43 34]\n"
     ]
    }
   ],
   "metadata": {}
  },
  {
   "cell_type": "code",
   "execution_count": 40,
   "source": [
    "# Gerando uma população com 400 números aleatórios\r\n",
    "tabela1 = np.zeros(400, dtype='int')\r\n",
    "for i in range(400):\r\n",
    "    # Como 400 possuem três dígitos então geramos mais um número aleatóri\r\n",
    "    na = rand.randint(1,9)\r\n",
    "    na1= rand.randint(0,9)\r\n",
    "    na2= rand.randint(0,9)\r\n",
    "    tabela1[i] = int(f'{na}{na1}{na2}')\r\n",
    "\r\n",
    "print(tabela1)"
   ],
   "outputs": [
    {
     "output_type": "stream",
     "name": "stdout",
     "text": [
      "[881 870 590 681 663 909 486 825 572 666 873 209 398 310 742 672 476 389\n",
      " 215 717 959 570 209 178 259 674 215 540 858 888 162 464 206 760 766 912\n",
      " 848 964 877 107 685 199 414 351 871 204 564 869 675 969 781 502 102 340\n",
      " 862 491 314 919 213 987 332 183 662 486 104 576 969 768 191 501 456 886\n",
      " 946 370 582 140 688 956 492 729 557 342 651 842 452 544 365 578 707 306\n",
      " 678 216 262 142 849 254 227 346 483 635 664 367 117 989 826 959 328 438\n",
      " 775 365 914 369 257 210 816 214 537 332 985 208 661 587 115 687 795 392\n",
      " 894 406 303 144 222 243 367 197 641 109 961 975 376 932 931 115 377 165\n",
      " 208 664 758 672 534 634 640 241 347 684 705 213 445 826 896 969 859 632\n",
      " 530 244 125 789 619 679 467 454 416 167 193 939 515 826 790 975 974 258\n",
      " 459 872 238 455 284 238 110 655 741 467 385 821 285 483 947 453 416 242\n",
      " 786 274 497 904 682 494 876 869 397 524 418 827 510 921 710 721 491 695\n",
      " 548 819 774 577 136 455 780 388 302 265 673 992 802 636 703 619 936 968\n",
      " 132 827 206 827 563 706 502 463 195 952 133 868 348 582 619 975 426 677\n",
      " 814 665 464 865 434 560 224 110 851 449 325 816 274 864 636 887 635 390\n",
      " 401 375 395 777 717 478 852 530 417 142 450 493 971 682 681 204 958 324\n",
      " 920 775 260 417 468 715 992 500 223 905 797 566 239 645 848 341 162 216\n",
      " 315 598 191 649 888 183 522 386 640 733 879 392 491 393 702 957 673 509\n",
      " 340 764 599 885 136 449 594 834 588 747 527 524 611 602 507 295 644 233\n",
      " 183 517 229 842 599 322 268 533 891 269 223 109 720 822 312 443 646 812\n",
      " 912 949 526 508 698 594 128 937 629 140 322 548 959 638 562 473 586 336\n",
      " 861 325 402 319 897 355 263 525 395 930 935 306 514 310 795 275 479 816\n",
      " 243 890 192 389]\n"
     ]
    }
   ],
   "metadata": {}
  },
  {
   "cell_type": "code",
   "execution_count": 42,
   "source": [
    "# Amostra de 5 indivíduos\r\n",
    "selecionados = []\r\n",
    "for i in tabela:\r\n",
    "    if len(selecionados) >= 5:\r\n",
    "        break\r\n",
    "    if i < 80:\r\n",
    "        selecionados.append(i)\r\n",
    "\r\n",
    "selecionados1 = []\r\n",
    "for i in tabela1:\r\n",
    "    if len(selecionados1) >= 5:\r\n",
    "        break\r\n",
    "    if i < 400:\r\n",
    "        selecionados1.append(i)\r\n",
    "        \r\n",
    "print(f'P80: {selecionados}')\r\n",
    "print(f'P400:{selecionados1}')"
   ],
   "outputs": [
    {
     "output_type": "stream",
     "name": "stdout",
     "text": [
      "P80: [51, 18, 26, 28, 34]\n",
      "P400:[209, 398, 310, 389, 215]\n"
     ]
    }
   ],
   "metadata": {}
  }
 ],
 "metadata": {
  "orig_nbformat": 4,
  "language_info": {
   "name": "python",
   "version": "3.9.6",
   "mimetype": "text/x-python",
   "codemirror_mode": {
    "name": "ipython",
    "version": 3
   },
   "pygments_lexer": "ipython3",
   "nbconvert_exporter": "python",
   "file_extension": ".py"
  },
  "kernelspec": {
   "name": "python3",
   "display_name": "Python 3.9.6 64-bit ('v-curso': venv)"
  },
  "interpreter": {
   "hash": "d58d745978d4f58bd9574aba24cfe8392d5688b67b68feb76493c1218abe927b"
  }
 },
 "nbformat": 4,
 "nbformat_minor": 2
}